{
 "cells": [
  {
   "cell_type": "code",
   "execution_count": 114,
   "metadata": {},
   "outputs": [],
   "source": [
    "#!pip install scikit-learn pydotplus -q"
   ]
  },
  {
   "cell_type": "markdown",
   "metadata": {},
   "source": [
    "# 決策樹 (Decision Tree)\n",
    "\n",
    "決策樹是一種常見的監督式學習演算法，適用於分類與回歸問題。它透過樹狀結構來模擬人類的決策過程，將資料逐步劃分成不同的類別或數值範圍。\n",
    "\n",
    "## 主要特點\n",
    "- **易於理解與解釋**：決策樹的結構直觀，易於可視化。\n",
    "- **可處理數值與類別型資料**：適用於各類型資料。\n",
    "- **不需要特徵標準化**：不受特徵尺度影響，無需進行標準化處理。\n",
    "\n",
    "## 工作原理\n",
    "決策樹透過遞迴地將數據集分割成子集，目標是使每個子集在目標變數上盡可能純淨。常見的分裂準則包括：\n",
    "\n",
    "1. **基尼不純度 (Gini Impurity)**：\n",
    "   - 衡量數據集中不同類別的混雜程度，公式如下：\n",
    "     \\[\n",
    "     Gini = 1 - \\sum_{i=1}^{n} p_i^2\n",
    "     \\]\n",
    "   - 當 Gini 值越小，表示數據越純。\n",
    "\n",
    "2. **信息增益 (Information Gain)**：\n",
    "   - 基於熵 (Entropy) 的概念，表示分裂前後的不確定性降低程度：\n",
    "     \\[\n",
    "     Entropy = -\\sum_{i=1}^{n} p_i \\log_2 p_i\n",
    "     \\]\n",
    "   - 信息增益越大，表示分裂效果越好。\n",
    "\n",
    "3. **均方誤差 (Mean Squared Error, MSE)**：\n",
    "   - 在回歸問題中，透過 MSE 衡量節點內的均方誤差，降低誤差來選擇最佳分裂。\n",
    "\n",
    "## 優點\n",
    "- **可視化能力強**：可以透過圖形化展示決策過程，方便解釋。\n",
    "- **無需過多數據前處理**：不需要特徵縮放或標準化。\n",
    "- **適用於特徵交互較強的問題**：能夠自動發現特徵間的交互作用。\n",
    "\n",
    "## 缺點\n",
    "- **容易過擬合 (Overfitting)**：若不進行適當修剪，可能對訓練數據擬合過度，影響泛化能力。\n",
    "- **對噪聲敏感**：容易受到資料異常值影響，導致不穩定的結果。\n",
    "- **計算成本高**：當特徵數過多時，樹的構建可能會較慢。\n",
    "\n",
    "## 過擬合的處理方式\n",
    "1. **剪枝 (Pruning)**：\n",
    "   - 預剪枝 (Pre-pruning)：在樹生成時限制深度、最小樣本數等。\n",
    "   - 後剪枝 (Post-pruning)：生成完整樹後，去除貢獻較小的分支。\n",
    "\n",
    "2. **設定最大深度 (Max Depth)**：限制樹的最大深度，防止過度擬合。\n",
    "\n",
    "3. **最小樣本數 (Min Samples Split)**：設定節點進行分裂所需的最小樣本數。\n",
    "\n",
    "## 應用範圍\n",
    "- **分類問題**：垃圾郵件分類、疾病診斷等。\n",
    "- **回歸問題**：房價預測、銷售額預測等。\n",
    "- **特徵選擇**：透過決策樹的特徵重要性來進行特徵篩選。"
   ]
  },
  {
   "cell_type": "code",
   "execution_count": 115,
   "metadata": {},
   "outputs": [],
   "source": [
    "from sklearn import tree\n",
    "from sklearn.model_selection import train_test_split\n",
    "from sklearn import datasets\n",
    "import pydotplus"
   ]
  },
  {
   "cell_type": "code",
   "execution_count": 116,
   "metadata": {},
   "outputs": [],
   "source": [
    "iris = datasets.load_iris()\n",
    "# iris"
   ]
  },
  {
   "cell_type": "code",
   "execution_count": 117,
   "metadata": {},
   "outputs": [],
   "source": [
    "X = iris.data\n",
    "y = iris.target\n",
    "X_train,X_test,y_train,y_test = train_test_split(X,y,test_size = 0.3, random_state=33)"
   ]
  },
  {
   "cell_type": "code",
   "execution_count": 118,
   "metadata": {},
   "outputs": [],
   "source": [
    "clf = tree.DecisionTreeClassifier(criterion='entropy', random_state=33).fit(X_train,y_train)"
   ]
  },
  {
   "cell_type": "code",
   "execution_count": 119,
   "metadata": {},
   "outputs": [
    {
     "data": {
      "text/plain": [
       "1.0"
      ]
     },
     "execution_count": 119,
     "metadata": {},
     "output_type": "execute_result"
    }
   ],
   "source": [
    "clf.score(X_train, y_train)"
   ]
  },
  {
   "cell_type": "code",
   "execution_count": 120,
   "metadata": {},
   "outputs": [
    {
     "data": {
      "text/plain": [
       "array([1, 1, 0, 1, 1, 2, 0, 0, 2, 2, 2, 0, 2, 1, 2, 1, 1, 0, 1, 2, 0, 0,\n",
       "       2, 0, 1, 1, 1, 1, 2, 2, 1, 1, 2, 2, 2, 2, 2, 1, 1, 0, 1, 1, 1, 0,\n",
       "       0])"
      ]
     },
     "execution_count": 120,
     "metadata": {},
     "output_type": "execute_result"
    }
   ],
   "source": [
    "clf.predict(X_test)"
   ]
  },
  {
   "cell_type": "code",
   "execution_count": 121,
   "metadata": {},
   "outputs": [
    {
     "data": {
      "text/plain": [
       "0.9111111111111111"
      ]
     },
     "execution_count": 121,
     "metadata": {},
     "output_type": "execute_result"
    }
   ],
   "source": [
    "clf.score(X_test, y_test)"
   ]
  },
  {
   "cell_type": "code",
   "execution_count": 122,
   "metadata": {},
   "outputs": [
    {
     "data": {
      "text/plain": [
       "True"
      ]
     },
     "execution_count": 122,
     "metadata": {},
     "output_type": "execute_result"
    }
   ],
   "source": [
    "dot_data = tree.export_graphviz(clf, out_file=None)\n",
    "graph = pydotplus.graph_from_dot_data(dot_data)\n",
    "graph.write_pdf('iris.pdf')"
   ]
  },
  {
   "cell_type": "markdown",
   "metadata": {},
   "source": [
    "看起來似乎有點 “overfitting”\n",
    "\n",
    "使用限制樹的大小來試試去會不會改善"
   ]
  },
  {
   "cell_type": "code",
   "execution_count": 123,
   "metadata": {},
   "outputs": [],
   "source": [
    "clf3 = tree.DecisionTreeClassifier(criterion='entropy', max_depth=3, random_state=33).fit(X_train, y_train)"
   ]
  },
  {
   "cell_type": "code",
   "execution_count": 124,
   "metadata": {},
   "outputs": [
    {
     "data": {
      "text/plain": [
       "0.9809523809523809"
      ]
     },
     "execution_count": 124,
     "metadata": {},
     "output_type": "execute_result"
    }
   ],
   "source": [
    "clf3.score(X_train, y_train)"
   ]
  },
  {
   "cell_type": "code",
   "execution_count": 125,
   "metadata": {},
   "outputs": [
    {
     "data": {
      "text/plain": [
       "array([1, 1, 0, 1, 2, 2, 0, 0, 2, 2, 2, 0, 2, 1, 2, 1, 1, 0, 1, 2, 0, 0,\n",
       "       2, 0, 1, 1, 1, 1, 2, 2, 1, 1, 2, 2, 2, 2, 2, 1, 1, 0, 1, 1, 1, 0,\n",
       "       0])"
      ]
     },
     "execution_count": 125,
     "metadata": {},
     "output_type": "execute_result"
    }
   ],
   "source": [
    "clf3.predict(X_test)"
   ]
  },
  {
   "cell_type": "code",
   "execution_count": 126,
   "metadata": {},
   "outputs": [
    {
     "data": {
      "text/plain": [
       "0.9333333333333333"
      ]
     },
     "execution_count": 126,
     "metadata": {},
     "output_type": "execute_result"
    }
   ],
   "source": [
    "clf3.score(X_test, y_test)"
   ]
  },
  {
   "cell_type": "code",
   "execution_count": 127,
   "metadata": {},
   "outputs": [
    {
     "data": {
      "text/plain": [
       "True"
      ]
     },
     "execution_count": 127,
     "metadata": {},
     "output_type": "execute_result"
    }
   ],
   "source": [
    "dot_data = tree.export_graphviz(clf, out_file=None)\n",
    "graph = pydotplus.graph_from_dot_data(dot_data)\n",
    "graph.write_pdf('iris_max3.pdf')"
   ]
  },
  {
   "cell_type": "markdown",
   "metadata": {},
   "source": [
    "使用gini\n"
   ]
  },
  {
   "cell_type": "code",
   "execution_count": 128,
   "metadata": {},
   "outputs": [],
   "source": [
    "clf_gini = tree.DecisionTreeClassifier(criterion='gini', max_depth=3, random_state=33).fit(X_train, y_train)"
   ]
  },
  {
   "cell_type": "code",
   "execution_count": 129,
   "metadata": {},
   "outputs": [
    {
     "data": {
      "text/plain": [
       "array([1, 1, 0, 1, 2, 2, 0, 0, 2, 2, 2, 0, 2, 1, 2, 1, 1, 0, 1, 2, 0, 0,\n",
       "       2, 0, 1, 1, 1, 1, 2, 2, 1, 1, 2, 2, 2, 2, 2, 1, 1, 0, 1, 1, 1, 0,\n",
       "       0])"
      ]
     },
     "execution_count": 129,
     "metadata": {},
     "output_type": "execute_result"
    }
   ],
   "source": [
    "clf_gini.predict(X_test)"
   ]
  },
  {
   "cell_type": "code",
   "execution_count": 130,
   "metadata": {},
   "outputs": [
    {
     "data": {
      "text/plain": [
       "0.9333333333333333"
      ]
     },
     "execution_count": 130,
     "metadata": {},
     "output_type": "execute_result"
    }
   ],
   "source": [
    "clf_gini.score(X_test, y_test)"
   ]
  },
  {
   "cell_type": "markdown",
   "metadata": {},
   "source": [
    "決策模型輸出\n"
   ]
  },
  {
   "cell_type": "code",
   "execution_count": 131,
   "metadata": {},
   "outputs": [
    {
     "data": {
      "text/plain": [
       "True"
      ]
     },
     "execution_count": 131,
     "metadata": {},
     "output_type": "execute_result"
    }
   ],
   "source": [
    "dot_data = tree.export_graphviz(clf_gini, out_file=None)\n",
    "graph = pydotplus.graph_from_dot_data(dot_data)\n",
    "graph.write_pdf('iris_gini_max3.pdf')"
   ]
  }
 ],
 "metadata": {
  "kernelspec": {
   "display_name": "Python 3",
   "language": "python",
   "name": "python3"
  },
  "language_info": {
   "codemirror_mode": {
    "name": "ipython",
    "version": 3
   },
   "file_extension": ".py",
   "mimetype": "text/x-python",
   "name": "python",
   "nbconvert_exporter": "python",
   "pygments_lexer": "ipython3",
   "version": "3.10.15"
  }
 },
 "nbformat": 4,
 "nbformat_minor": 2
}
