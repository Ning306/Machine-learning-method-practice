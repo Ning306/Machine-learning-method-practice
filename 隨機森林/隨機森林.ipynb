{
 "cells": [
  {
   "cell_type": "markdown",
   "metadata": {},
   "source": [
    "# 隨機森林 (Random Forest)\n",
    "\n",
    "隨機森林是一種集成學習方法，透過結合多顆決策樹來進行預測。它是由 **Bagging**（Bootstrap Aggregating）技術所衍生，能夠有效地減少過度擬合（overfitting）並提高預測準確度。\n",
    "\n",
    "## 主要特點\n",
    "- **集成學習方法**：結合多顆決策樹的預測結果。\n",
    "- **隨機性**：每顆樹的生成過程中使用隨機抽樣的特徵和樣本，增加多樣性。\n",
    "- **高準確度**：相比單顆決策樹，隨機森林在大多數情況下能提供更好的準確性。\n",
    "- **抗過度擬合**：通過集成多個模型來減少過度擬合的風險。\n",
    "\n",
    "## 工作原理\n",
    "1. **資料抽樣**：\n",
    "   - 從訓練資料中隨機抽取多個子集（有放回抽樣，稱為 Bootstrap）。\n",
    "2. **建構多顆決策樹**：\n",
    "   - 每顆樹使用不同的資料子集和隨機選擇的特徵來建立。\n",
    "3. **預測與投票**：\n",
    "   - 每顆樹獨立進行預測，對分類問題使用多數投票法，對回歸問題使用平均值。\n",
    "\n",
    "## 優點\n",
    "- **高準確度**：能夠處理大量資料並保持高效的準確度。\n",
    "- **不易過度擬合**：集成多顆樹的結果有助於防止過度擬合。\n",
    "- **能處理缺失資料**：即使某些資料缺失，隨機森林依然可以有效運作。\n",
    "- **適用於高維度資料**：隨機森林能夠有效處理擁有大量特徵的資料集。\n",
    "\n",
    "## 缺點\n",
    "- **計算開銷**：訓練多顆樹需要大量計算資源和時間。\n",
    "- **模型解釋性差**：由於多顆樹結合，隨機森林的模型較難解釋。\n",
    "\n",
    "## 應用範圍\n",
    "- **分類問題**：例如圖像識別、醫療診斷。\n",
    "- **回歸問題**：例如預測房價、銷售額等。\n",
    "- **特徵選擇**：利用隨機森林中的特徵重要性來選擇最具代表性的特徵。"
   ]
  },
  {
   "cell_type": "code",
   "execution_count": 16,
   "metadata": {},
   "outputs": [],
   "source": [
    "from sklearn.ensemble import RandomForestClassifier\n",
    "from sklearn import datasets\n",
    "from sklearn.model_selection import train_test_split\n",
    "import matplotlib.pyplot as plt\n",
    "import pandas as pd"
   ]
  },
  {
   "cell_type": "code",
   "execution_count": 17,
   "metadata": {},
   "outputs": [],
   "source": [
    "iris = datasets.load_iris()\n",
    "# iris"
   ]
  },
  {
   "cell_type": "code",
   "execution_count": 18,
   "metadata": {},
   "outputs": [],
   "source": [
    "X = iris.data\n",
    "y = iris.target\n",
    "X_train, X_test, y_train, y_test = train_test_split(X, y, test_size=0.3, random_state=33)"
   ]
  },
  {
   "cell_type": "code",
   "execution_count": 19,
   "metadata": {},
   "outputs": [],
   "source": [
    "rfc1 = RandomForestClassifier(n_estimators=100, random_state=33).fit(X_train, y_train)"
   ]
  },
  {
   "cell_type": "markdown",
   "metadata": {},
   "source": [
    "#### 經測試樹的大小超過100時，似乎已經不會有更好的效果，反而會造成效能降低，因此決定100棵樹"
   ]
  },
  {
   "cell_type": "code",
   "execution_count": 20,
   "metadata": {},
   "outputs": [
    {
     "data": {
      "text/plain": [
       "array([1, 1, 0, 1, 1, 2, 0, 0, 2, 2, 2, 0, 2, 1, 2, 1, 1, 0, 1, 2, 0, 0,\n",
       "       2, 0, 1, 2, 1, 1, 2, 2, 1, 1, 2, 2, 2, 2, 2, 1, 1, 0, 1, 1, 1, 0,\n",
       "       0])"
      ]
     },
     "execution_count": 20,
     "metadata": {},
     "output_type": "execute_result"
    }
   ],
   "source": [
    "rfc1.predict(X_test)"
   ]
  },
  {
   "cell_type": "code",
   "execution_count": 21,
   "metadata": {},
   "outputs": [
    {
     "data": {
      "text/plain": [
       "0.9333333333333333"
      ]
     },
     "execution_count": 21,
     "metadata": {},
     "output_type": "execute_result"
    }
   ],
   "source": [
    "rfc1.score(X_test, y_test)"
   ]
  },
  {
   "cell_type": "markdown",
   "metadata": {},
   "source": [
    "### 加入更多參數，試試看預測效果會不會更好\n",
    "\n",
    "- **`n_jobs = -1`**\n",
    "  - 控制計算時使用的 CPU 核心數量：\n",
    "    - `-1`：使用所有可用的核心，最大化計算速度。\n",
    "    - 正整數：指定使用的核心數（例如 `n_jobs=4` 使用 4 個核心）。\n",
    "    - 如果使用單核 CPU，可以將其設置為默認值 `None`。\n",
    "\n",
    "- **`min_samples_leaf = 3`**\n",
    "  - 表示每個葉節點上至少需要有 3 個樣本，這是一個正則化參數：\n",
    "    - 可以防止葉節點過於純粹（避免過擬合）。\n",
    "    - 增加此值會讓模型更加平滑，但可能降低模型對細節的捕捉能力。\n",
    "    - 適合用於樣本量較大的數據集。"
   ]
  },
  {
   "cell_type": "code",
   "execution_count": 22,
   "metadata": {},
   "outputs": [],
   "source": [
    "rfc2 = RandomForestClassifier(n_estimators=100, n_jobs=-1, min_samples_leaf=3, random_state=33).fit(X_train, y_train)"
   ]
  },
  {
   "cell_type": "code",
   "execution_count": 23,
   "metadata": {},
   "outputs": [
    {
     "data": {
      "text/plain": [
       "array([1, 1, 0, 1, 1, 2, 0, 0, 2, 2, 2, 0, 2, 1, 2, 1, 2, 0, 1, 2, 0, 0,\n",
       "       2, 0, 1, 2, 1, 1, 2, 2, 1, 1, 2, 2, 2, 2, 2, 1, 1, 0, 1, 1, 1, 0,\n",
       "       0])"
      ]
     },
     "execution_count": 23,
     "metadata": {},
     "output_type": "execute_result"
    }
   ],
   "source": [
    "rfc2.predict(X_test)"
   ]
  },
  {
   "cell_type": "code",
   "execution_count": 24,
   "metadata": {},
   "outputs": [
    {
     "data": {
      "text/plain": [
       "0.9555555555555556"
      ]
     },
     "execution_count": 24,
     "metadata": {},
     "output_type": "execute_result"
    }
   ],
   "source": [
    "rfc2.score(X_test, y_test)"
   ]
  },
  {
   "cell_type": "markdown",
   "metadata": {},
   "source": [
    "### 增加更多參數後，預測結果 <span style=\"color:red;\">**提升2%**</span>"
   ]
  },
  {
   "cell_type": "markdown",
   "metadata": {},
   "source": [
    "## 特徵重要性分析"
   ]
  },
  {
   "cell_type": "code",
   "execution_count": 25,
   "metadata": {},
   "outputs": [
    {
     "name": "stdout",
     "output_type": "stream",
     "text": [
      "特徵重要性分析 = [0.10207007 0.01574396 0.44633868 0.43584729]\n",
      "特徵重要性分析(多參數） = [0.09505325 0.01052602 0.44943671 0.44498403]\n"
     ]
    }
   ],
   "source": [
    "imp1 = rfc1.feature_importances_\n",
    "imp2 = rfc2.feature_importances_\n",
    "print(f\"特徵重要性分析 = {imp1}\")\n",
    "print(f\"特徵重要性分析(多參數） = {imp2}\")"
   ]
  },
  {
   "cell_type": "code",
   "execution_count": 26,
   "metadata": {},
   "outputs": [
    {
     "data": {
      "text/html": [
       "<div>\n",
       "<style scoped>\n",
       "    .dataframe tbody tr th:only-of-type {\n",
       "        vertical-align: middle;\n",
       "    }\n",
       "\n",
       "    .dataframe tbody tr th {\n",
       "        vertical-align: top;\n",
       "    }\n",
       "\n",
       "    .dataframe thead th {\n",
       "        text-align: right;\n",
       "    }\n",
       "</style>\n",
       "<table border=\"1\" class=\"dataframe\">\n",
       "  <thead>\n",
       "    <tr style=\"text-align: right;\">\n",
       "      <th></th>\n",
       "      <th>Feature Name</th>\n",
       "      <th>Model 1 Importance</th>\n",
       "      <th>Model 2 Importance</th>\n",
       "    </tr>\n",
       "  </thead>\n",
       "  <tbody>\n",
       "    <tr>\n",
       "      <th>0</th>\n",
       "      <td>sepal length (cm)</td>\n",
       "      <td>0.102070</td>\n",
       "      <td>0.095053</td>\n",
       "    </tr>\n",
       "    <tr>\n",
       "      <th>1</th>\n",
       "      <td>sepal width (cm)</td>\n",
       "      <td>0.015744</td>\n",
       "      <td>0.010526</td>\n",
       "    </tr>\n",
       "    <tr>\n",
       "      <th>2</th>\n",
       "      <td>petal length (cm)</td>\n",
       "      <td>0.446339</td>\n",
       "      <td>0.449437</td>\n",
       "    </tr>\n",
       "    <tr>\n",
       "      <th>3</th>\n",
       "      <td>petal width (cm)</td>\n",
       "      <td>0.435847</td>\n",
       "      <td>0.444984</td>\n",
       "    </tr>\n",
       "  </tbody>\n",
       "</table>\n",
       "</div>"
      ],
      "text/plain": [
       "        Feature Name  Model 1 Importance  Model 2 Importance\n",
       "0  sepal length (cm)            0.102070            0.095053\n",
       "1   sepal width (cm)            0.015744            0.010526\n",
       "2  petal length (cm)            0.446339            0.449437\n",
       "3   petal width (cm)            0.435847            0.444984"
      ]
     },
     "execution_count": 26,
     "metadata": {},
     "output_type": "execute_result"
    }
   ],
   "source": [
    "feature_name = iris.feature_names\n",
    "df = pd.DataFrame(\n",
    "    {\n",
    "        'Feature Name': feature_name,\n",
    "        'Model 1 Importance':imp1,\n",
    "        'Model 2 Importance':imp2   \n",
    "    }\n",
    ")\n",
    "df"
   ]
  },
  {
   "cell_type": "markdown",
   "metadata": {},
   "source": [
    "### 重要性分析視覺化"
   ]
  },
  {
   "cell_type": "code",
   "execution_count": 27,
   "metadata": {},
   "outputs": [
    {
     "data": {
      "image/png": "[encoded data removed]",
      "text/plain": [
       "<Figure size 640x480 with 1 Axes>"
      ]
     },
     "metadata": {},
     "output_type": "display_data"
    }
   ],
   "source": [
    "# model 1 的特徵重要性分析視覺化\n",
    "plt.barh(iris.feature_names, rfc1.feature_importances_, color='skyblue')\n",
    "plt.xlabel('Feature Importance')\n",
    "plt.ylabel('Feature Name')\n",
    "plt.title('Feature Importance Visualization (Model 1)')\n",
    "plt.show()"
   ]
  },
  {
   "cell_type": "code",
   "execution_count": 28,
   "metadata": {},
   "outputs": [
    {
     "data": {
      "image/png": "[encoded data removed]",
      "text/plain": [
       "<Figure size 640x480 with 1 Axes>"
      ]
     },
     "metadata": {},
     "output_type": "display_data"
    }
   ],
   "source": [
    "# model 2 的特徵重要性分析視覺化\n",
    "plt.barh(iris.feature_names, rfc2.feature_importances_, color='skyblue')\n",
    "plt.xlabel('Feature Importance')\n",
    "plt.ylabel('Feature Name')\n",
    "plt.title('Feature Importance Visualization (Model 2)')\n",
    "plt.show()"
   ]
  },
  {
   "cell_type": "markdown",
   "metadata": {},
   "source": [
    "### **特徵重要性結論**\n",
    "兩個模型都顯示 <span style=\"color:red;\"> \"sepal width\"(花萼寬度)</span>此特徵對於模型的<span style=\"color:red;\">貢獻度最低</span>，而 <span style=\"color:red;\">\"petal width\"、\"petal length\"(花瓣寬、花瓣長)</span>相對來說是<span style=\"color:red;\">重要的特徵</span>。"
   ]
  }
 ],
 "metadata": {
  "kernelspec": {
   "display_name": "Python 3",
   "language": "python",
   "name": "python3"
  },
  "language_info": {
   "codemirror_mode": {
    "name": "ipython",
    "version": 3
   },
   "file_extension": ".py",
   "mimetype": "text/x-python",
   "name": "python",
   "nbconvert_exporter": "python",
   "pygments_lexer": "ipython3",
   "version": "3.10.15"
  }
 },
 "nbformat": 4,
 "nbformat_minor": 2
}
