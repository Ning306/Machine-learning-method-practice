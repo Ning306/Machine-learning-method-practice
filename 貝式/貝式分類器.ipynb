{
 "cells": [
  {
   "cell_type": "code",
   "execution_count": 73,
   "metadata": {},
   "outputs": [],
   "source": [
    "from sklearn.naive_bayes import GaussianNB\n",
    "from sklearn.naive_bayes import MultinomialNB\n",
    "from sklearn.naive_bayes import BernoulliNB\n",
    "from sklearn import datasets\n",
    "from sklearn.model_selection import train_test_split\n",
    "import numpy as np\n",
    "import pandas as pd"
   ]
  },
  {
   "cell_type": "code",
   "execution_count": 74,
   "metadata": {},
   "outputs": [],
   "source": [
    "iris = datasets.load_iris()"
   ]
  },
  {
   "cell_type": "code",
   "execution_count": 75,
   "metadata": {},
   "outputs": [],
   "source": [
    "X = iris.data\n",
    "y = iris.target"
   ]
  },
  {
   "cell_type": "code",
   "execution_count": 76,
   "metadata": {},
   "outputs": [],
   "source": [
    "X_train, X_test, y_train, y_test = train_test_split(X, y, test_size= 0.3, random_state= 33)"
   ]
  },
  {
   "cell_type": "markdown",
   "metadata": {},
   "source": [
    "# Gaussian Naive Bayes 高斯貝式\n",
    "\n",
    "主要用於連續變數，比方說特徵長度為幾公分、重量為幾公斤等等。\n",
    "\n",
    "$$\n",
    "P(X_j | Y_i) = \\frac{1}{\\sqrt{2\\pi\\sigma_{Y_i}^2}} \\exp\\left(-\\frac{(X_j - \\mu_{Y_i})^2}{2\\sigma_{Y_i}^2}\\right)\n",
    "$$"
   ]
  },
  {
   "cell_type": "code",
   "execution_count": 77,
   "metadata": {},
   "outputs": [
    {
     "data": {
      "text/plain": [
       "array([1, 1, 0, 1, 1, 2, 0, 0, 2, 2, 2, 0, 2, 1, 2, 1, 2, 0, 1, 2, 0, 0,\n",
       "       2, 0, 1, 2, 1, 1, 2, 2, 1, 1, 2, 2, 2, 2, 2, 1, 1, 0, 1, 1, 1, 0,\n",
       "       0])"
      ]
     },
     "execution_count": 77,
     "metadata": {},
     "output_type": "execute_result"
    }
   ],
   "source": [
    "modelgnb = GaussianNB()\n",
    "modelgnb.fit(X_train, y_train)\n",
    "modelgnb.predict(X_test)"
   ]
  },
  {
   "cell_type": "code",
   "execution_count": 78,
   "metadata": {},
   "outputs": [
    {
     "data": {
      "text/plain": [
       "array([[1.29356119e-076, 9.99865779e-001, 1.34220523e-004],\n",
       "       [3.69939572e-092, 9.86294621e-001, 1.37053793e-002],\n",
       "       [1.00000000e+000, 1.71472943e-014, 2.64067764e-025],\n",
       "       [4.46736151e-105, 9.67919741e-001, 3.20802590e-002],\n",
       "       [9.17464910e-153, 7.34091430e-001, 2.65908570e-001],\n",
       "       [8.06342637e-245, 4.06094860e-009, 9.99999996e-001],\n",
       "       [1.00000000e+000, 2.29090110e-012, 7.90288739e-023],\n",
       "       [1.00000000e+000, 4.85372771e-015, 2.88378833e-025],\n",
       "       [3.29767065e-167, 4.86162719e-003, 9.95138373e-001],\n",
       "       [3.76452169e-214, 1.53430994e-007, 9.99999847e-001],\n",
       "       [1.99849076e-226, 6.72331516e-008, 9.99999933e-001],\n",
       "       [1.00000000e+000, 1.64356578e-015, 1.46571856e-026],\n",
       "       [2.54279672e-211, 1.71881917e-007, 9.99999828e-001],\n",
       "       [7.36311948e-104, 9.92943678e-001, 7.05632232e-003],\n",
       "       [7.68921862e-179, 4.62539733e-006, 9.99995375e-001],\n",
       "       [3.82621763e-083, 9.99199778e-001, 8.00221655e-004],\n",
       "       [1.10024561e-126, 3.29061821e-001, 6.70938179e-001],\n",
       "       [1.00000000e+000, 2.15114303e-015, 7.50458061e-026],\n",
       "       [3.10630787e-112, 7.47419843e-001, 2.52580157e-001],\n",
       "       [4.99505342e-204, 1.76898674e-005, 9.99982310e-001],\n",
       "       [1.00000000e+000, 2.13611782e-015, 1.30877668e-026],\n",
       "       [1.00000000e+000, 5.62560673e-013, 1.81811506e-022],\n",
       "       [1.62524213e-211, 2.28732473e-006, 9.99997713e-001],\n",
       "       [1.00000000e+000, 1.01297325e-015, 4.59794161e-027],\n",
       "       [9.65328374e-124, 9.75325827e-001, 2.46741731e-002],\n",
       "       [7.93297339e-128, 3.28486561e-001, 6.71513439e-001],\n",
       "       [6.17589325e-099, 9.94384969e-001, 5.61503143e-003],\n",
       "       [4.02235488e-070, 9.99895820e-001, 1.04179600e-004],\n",
       "       [3.15085842e-162, 1.26111336e-003, 9.98738887e-001],\n",
       "       [4.66035288e-142, 1.23700561e-001, 8.76299439e-001],\n",
       "       [8.91834302e-077, 9.99920437e-001, 7.95630903e-005],\n",
       "       [4.92721053e-110, 8.53268135e-001, 1.46731865e-001],\n",
       "       [2.09884977e-142, 4.69217325e-002, 9.53078268e-001],\n",
       "       [5.07278901e-187, 5.78350450e-006, 9.99994216e-001],\n",
       "       [5.27555438e-214, 1.22183917e-007, 9.99999878e-001],\n",
       "       [2.67002183e-183, 6.61859589e-006, 9.99993381e-001],\n",
       "       [7.65137511e-148, 6.85442143e-002, 9.31455786e-001],\n",
       "       [8.83742439e-073, 9.99946556e-001, 5.34437895e-005],\n",
       "       [9.57365801e-035, 9.99999951e-001, 4.88329092e-008],\n",
       "       [1.00000000e+000, 1.12259214e-014, 1.26514816e-025],\n",
       "       [3.99577151e-088, 9.99662084e-001, 3.37915825e-004],\n",
       "       [5.90689248e-066, 9.99986523e-001, 1.34768581e-005],\n",
       "       [2.29105160e-082, 9.99503039e-001, 4.96960667e-004],\n",
       "       [1.00000000e+000, 6.42445603e-016, 8.06498252e-027],\n",
       "       [1.00000000e+000, 3.33681277e-015, 1.44780145e-025]])"
      ]
     },
     "execution_count": 78,
     "metadata": {},
     "output_type": "execute_result"
    }
   ],
   "source": [
    "# 被分配到三種花的機率\n",
    "modelgnb.predict_proba(X_test)"
   ]
  },
  {
   "cell_type": "code",
   "execution_count": 79,
   "metadata": {},
   "outputs": [
    {
     "name": "stdout",
     "output_type": "stream",
     "text": [
      "Training Set Score :  0.9619047619047619\n",
      "Test Set Score :  0.9555555555555556\n"
     ]
    }
   ],
   "source": [
    "print('Training Set Score : ', modelgnb.score(X_train, y_train))\n",
    "print('Test Set Score : ', modelgnb.score(X_test, y_test))"
   ]
  },
  {
   "cell_type": "markdown",
   "metadata": {},
   "source": [
    "# Multinomial Naive Bayes 多項式貝式分類器\n",
    "\n",
    "主要用在離散變數，比方說次數、類別等等。\n",
    "\n",
    "$$\n",
    "P(Y_i) = \\frac{N_{Y_i} + \\alpha}{N + K\\alpha}\n",
    "$$\n",
    "\n",
    "$$\n",
    "P(X_j | Y_i) = \\frac{N_{Y_i, X_j} + \\alpha}{N_{Y_i} + n\\alpha}\n",
    "$$"
   ]
  },
  {
   "cell_type": "code",
   "execution_count": 80,
   "metadata": {},
   "outputs": [
    {
     "data": {
      "text/plain": [
       "array([1, 1, 0, 1, 1, 2, 0, 0, 1, 2, 2, 0, 2, 1, 1, 1, 1, 0, 1, 1, 0, 0,\n",
       "       2, 0, 1, 1, 1, 1, 1, 1, 1, 1, 2, 2, 2, 1, 2, 1, 1, 0, 1, 1, 1, 0,\n",
       "       0])"
      ]
     },
     "execution_count": 80,
     "metadata": {},
     "output_type": "execute_result"
    }
   ],
   "source": [
    "# model #此案例中特徵為連續型，因此不適合使用多項式貝式分類器\n",
    "modelmnb = MultinomialNB(alpha=1)  #alpha預設為1\n",
    "modelmnb.fit(X_train, y_train)\n",
    "modelmnb.predict(X_test)"
   ]
  },
  {
   "cell_type": "code",
   "execution_count": 81,
   "metadata": {},
   "outputs": [
    {
     "data": {
      "text/plain": [
       "array([[0.0706437 , 0.51647472, 0.41288159],\n",
       "       [0.07309297, 0.52733404, 0.39957299],\n",
       "       [0.70327368, 0.19514817, 0.10157814],\n",
       "       [0.04510087, 0.52226344, 0.4326357 ],\n",
       "       [0.01985886, 0.50770063, 0.47244051],\n",
       "       [0.00538611, 0.47283062, 0.52178327],\n",
       "       [0.68421034, 0.2080835 , 0.10770616],\n",
       "       [0.75814979, 0.16228167, 0.07956855],\n",
       "       [0.01818873, 0.50972911, 0.47208217],\n",
       "       [0.0094497 , 0.4948794 , 0.4956709 ],\n",
       "       [0.00793364, 0.48969285, 0.50237351],\n",
       "       [0.7137075 , 0.18705037, 0.09924213],\n",
       "       [0.00893051, 0.48802363, 0.50304585],\n",
       "       [0.04669603, 0.52095252, 0.43235145],\n",
       "       [0.01409898, 0.50224234, 0.48365868],\n",
       "       [0.07499116, 0.52287496, 0.40213389],\n",
       "       [0.02688754, 0.51028285, 0.46282961],\n",
       "       [0.77149902, 0.15430953, 0.07419145],\n",
       "       [0.04753511, 0.52519762, 0.42726727],\n",
       "       [0.0155038 , 0.51686067, 0.46763553],\n",
       "       [0.74074724, 0.17231689, 0.08693587],\n",
       "       [0.77026886, 0.15674899, 0.07298215],\n",
       "       [0.00814549, 0.48589948, 0.50595503],\n",
       "       [0.74015155, 0.17210471, 0.08774375],\n",
       "       [0.02114267, 0.50070489, 0.47815244],\n",
       "       [0.02481322, 0.50865854, 0.46652824],\n",
       "       [0.05327816, 0.52226296, 0.42445888],\n",
       "       [0.08298571, 0.51682631, 0.40018798],\n",
       "       [0.01686223, 0.504857  , 0.47828078],\n",
       "       [0.02099349, 0.50541469, 0.47359182],\n",
       "       [0.06181213, 0.51409312, 0.42409476],\n",
       "       [0.05188539, 0.52837603, 0.41973858],\n",
       "       [0.01564724, 0.49080357, 0.49354919],\n",
       "       [0.01160986, 0.49395776, 0.49443238],\n",
       "       [0.00805998, 0.48598191, 0.50595811],\n",
       "       [0.01179273, 0.49490751, 0.49329976],\n",
       "       [0.01502016, 0.49245033, 0.49252952],\n",
       "       [0.08455003, 0.5163655 , 0.39908447],\n",
       "       [0.12029212, 0.49333153, 0.38637636],\n",
       "       [0.71474304, 0.18823276, 0.0970242 ],\n",
       "       [0.04842888, 0.51688858, 0.43468253],\n",
       "       [0.0792799 , 0.51358867, 0.40713143],\n",
       "       [0.07223303, 0.52135042, 0.40641655],\n",
       "       [0.74881215, 0.16665282, 0.08453503],\n",
       "       [0.72808879, 0.17966302, 0.09224819]])"
      ]
     },
     "execution_count": 81,
     "metadata": {},
     "output_type": "execute_result"
    }
   ],
   "source": [
    "modelmnb.predict_proba(X_test)"
   ]
  },
  {
   "cell_type": "code",
   "execution_count": 82,
   "metadata": {},
   "outputs": [
    {
     "name": "stdout",
     "output_type": "stream",
     "text": [
      "Training Set Score :  0.819047619047619\n",
      "Test Set Score :  0.7777777777777778\n",
      "此案例中特徵為連續型，不適合使用多項式貝式分類器，\n",
      "因此多項式貝式分類效果比高斯貝式分類器差\n"
     ]
    }
   ],
   "source": [
    "print('Training Set Score : ', modelmnb.score(X_train, y_train))\n",
    "print('Test Set Score : ', modelmnb.score(X_test, y_test))\n",
    "print('此案例中特徵為連續型，不適合使用多項式貝式分類器，\\n因此多項式貝式分類效果比高斯貝式分類器差')"
   ]
  },
  {
   "cell_type": "markdown",
   "metadata": {},
   "source": [
    "# Bernoulli Naive Bayes 伯努力貝式分類器\n",
    "\n",
    "用在二元的特徵，比方說特徵是否出現、特徵大小、特徵長短等這種二元的分類。\n",
    "\n",
    "$$\n",
    "P(X_j | Y_i) = P_{Y_i}^{X_j}(1 - P_{Y_i})^{1 - X_j}\n",
    "$$"
   ]
  },
  {
   "cell_type": "code",
   "execution_count": 83,
   "metadata": {},
   "outputs": [
    {
     "data": {
      "text/plain": [
       "array([0, 0, 0, 0, 0, 0, 0, 0, 0, 0, 0, 0, 0, 0, 0, 0, 0, 0, 0, 0, 0, 0,\n",
       "       0, 0, 0, 0, 0, 0, 0, 0, 0, 0, 0, 0, 0, 0, 0, 0, 0, 0, 0, 0, 0, 0,\n",
       "       0])"
      ]
     },
     "execution_count": 83,
     "metadata": {},
     "output_type": "execute_result"
    }
   ],
   "source": [
    "# 在沒加入binarize時預測結果都會被分為同一類\n",
    "modelbnb = BernoulliNB()\n",
    "modelbnb.fit(X_train, y_train)\n",
    "modelbnb.predict(X_test)"
   ]
  },
  {
   "cell_type": "markdown",
   "metadata": {},
   "source": [
    "### 加入binarize\n",
    "`binarize` 表示切分的基準點。例如，若設定 `binarize=1`，則特徵值大於 1 的資料會被分為一類，特徵值小於或等於 1 的資料則被分為另一類。"
   ]
  },
  {
   "cell_type": "code",
   "execution_count": 84,
   "metadata": {},
   "outputs": [
    {
     "data": {
      "text/plain": [
       "array([2, 2, 0, 2, 2, 2, 0, 0, 2, 2, 2, 0, 2, 2, 2, 2, 2, 0, 2, 2, 0, 0,\n",
       "       2, 0, 2, 2, 2, 2, 2, 2, 2, 2, 2, 2, 2, 2, 2, 2, 0, 0, 2, 2, 2, 0,\n",
       "       0])"
      ]
     },
     "execution_count": 84,
     "metadata": {},
     "output_type": "execute_result"
    }
   ],
   "source": [
    "modelbnb = BernoulliNB(binarize=1) \n",
    "modelbnb.fit(X_train, y_train)\n",
    "modelbnb.predict(X_test) "
   ]
  },
  {
   "cell_type": "code",
   "execution_count": 86,
   "metadata": {},
   "outputs": [
    {
     "name": "stdout",
     "output_type": "stream",
     "text": [
      "Training Set Score :  0.6666666666666666\n",
      "Test Set Score :  0.6666666666666666\n"
     ]
    }
   ],
   "source": [
    "print('Training Set Score : ', modelbnb.score(X_train, y_train))\n",
    "print('Test Set Score : ', modelbnb.score(X_test, y_test)) # 以binarize=1區分，效果也不是太好"
   ]
  }
 ],
 "metadata": {
  "kernelspec": {
   "display_name": "Python 3",
   "language": "python",
   "name": "python3"
  },
  "language_info": {
   "codemirror_mode": {
    "name": "ipython",
    "version": 3
   },
   "file_extension": ".py",
   "mimetype": "text/x-python",
   "name": "python",
   "nbconvert_exporter": "python",
   "pygments_lexer": "ipython3",
   "version": "3.10.15"
  }
 },
 "nbformat": 4,
 "nbformat_minor": 2
}
